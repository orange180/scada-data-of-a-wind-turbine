{
 "cells": [
  {
   "cell_type": "code",
   "execution_count": 1,
   "metadata": {
    "collapsed": true
   },
   "outputs": [],
   "source": [
    "import pandas as pd\n",
    "import numpy as np\n",
    "import matplotlib.pyplot as plt\n",
    "from matplotlib import rcParams\n",
    "from sklearn import metrics\n",
    "import time\n",
    "def rmse(y, yhat):\n",
    "    return np.sqrt(metrics.mean_squared_error(y, yhat))\n",
    "\n",
    "np.set_printoptions(precision=4, threshold=8, edgeitems=4, linewidth=75, suppress=True, nanstr='nan', infstr='inf')\n",
    "pd.set_option('display.max_columns', 1000)\n",
    "pd.set_option('display.width', 1000)\n",
    "pd.set_option('display.max_colwidth', 1000)"
   ]
  },
  {
   "cell_type": "code",
   "execution_count": 3,
   "outputs": [
    {
     "name": "stdout",
     "output_type": "stream",
     "text": [
      "[130.3431 174.7837 204.6844 228.1947 ... 339.5416 349.3381 358.6525\n",
      " 367.5504]\n"
     ]
    }
   ],
   "source": [
    "record1 = pd.read_csv('preprocess_sg_rmse.csv', index_col=False, header=None)\n",
    "record1 = record1.values\n",
    "print(record1[0,:])"
   ],
   "metadata": {
    "collapsed": false,
    "pycharm": {
     "name": "#%%\n"
    }
   }
  },
  {
   "cell_type": "code",
   "execution_count": 4,
   "outputs": [
    {
     "name": "stdout",
     "output_type": "stream",
     "text": [
      "[95.1151 73.2108 50.8346 54.1101 ... 22.3785 28.2316 28.26   26.6376]\n"
     ]
    }
   ],
   "source": [
    "record2 = pd.read_csv('z_rmse.csv', index_col=False, header=None)\n",
    "record2 = record2.values\n",
    "print(record2[0,:])"
   ],
   "metadata": {
    "collapsed": false,
    "pycharm": {
     "name": "#%%\n"
    }
   }
  },
  {
   "cell_type": "code",
   "execution_count": 6,
   "outputs": [
    {
     "name": "stdout",
     "output_type": "stream",
     "text": [
      "[1 2 4 6 8]\n",
      "[ 3  5  7  9 ... 25 27 29 31]\n",
      "[[0. 0. 0. 0. ... 0. 0. 0. 0.]\n",
      " [0. 0. 0. 0. ... 0. 0. 0. 0.]\n",
      " [0. 0. 0. 0. ... 0. 0. 0. 0.]\n",
      " [0. 0. 0. 0. ... 0. 0. 0. 0.]\n",
      " [0. 0. 0. 0. ... 0. 0. 0. 0.]]\n",
      "(5, 15)\n",
      "[[   0.       19.8681]\n",
      " [   0.       17.0655]\n",
      " [   0.        7.3602]\n",
      " [   0.       10.7167]\n",
      " ...\n",
      " [1173.0558 3322.2715]\n",
      " [1788.2848 1766.1401]\n",
      " [2418.3825 2657.5808]\n",
      " [2779.1841 1913.7952]]\n",
      "[[112.4434 166.1199 208.4289 236.2718 ... 342.358  350.8337 359.1402\n",
      "  367.708 ]\n",
      " [281.2545 115.5201 153.4964 170.9908 ... 266.4742 273.9076 282.2611\n",
      "  285.2493]\n",
      " [     nan 277.0595 123.4619 138.1661 ... 229.173  233.5577 240.261\n",
      "  246.5814]\n",
      " [     nan      nan 279.5393 133.0546 ... 198.9271 205.713  210.7419\n",
      "  217.4578]\n",
      " [     nan      nan      nan 276.5408 ... 184.2946 186.4906 193.2038\n",
      "  198.0152]]\n"
     ]
    }
   ],
   "source": [
    "k = np.array([1,2,4,6,8])\n",
    "w = (np.arange(15)+1)*2+1\n",
    "print(k)\n",
    "print(w)\n",
    "record = np.zeros((len(k), len(w)))\n",
    "print(record)\n",
    "print(record.shape)\n",
    "data0 = pd.read_csv('./res/nofilter.csv', index_col=False, header=0)\n",
    "data0 = data0.values\n",
    "print(data0)\n",
    "for i in range(len(k)):\n",
    "    for j in range(len(w)):\n",
    "        if k[i]<w[j]:\n",
    "            data = pd.read_csv('./res/SG_'+str(w[j])+'_'+str(k[i])+'.csv', index_col=False, header=0)\n",
    "            data = data.values\n",
    "            record[i,j]=rmse(data0[:,0],data[:,1])\n",
    "        else:\n",
    "            record[i,j] = np.NAN\n",
    "print(record)"
   ],
   "metadata": {
    "collapsed": false,
    "pycharm": {
     "name": "#%%\n"
    }
   }
  },
  {
   "cell_type": "code",
   "execution_count": 32,
   "outputs": [
    {
     "data": {
      "text/plain": "<Figure size 360x300 with 1 Axes>",
      "image/png": "[encoded data removed]"
     },
     "metadata": {
      "needs_background": "light"
     },
     "output_type": "display_data"
    }
   ],
   "source": [
    "plt.rcParams['axes.unicode_minus'] = False  # 解决负号显示问题\n",
    "config = {\n",
    "            \"font.family\": 'serif',\n",
    "            \"font.size\": 21,\n",
    "            \"mathtext.fontset\": 'stix',\n",
    "            \"font.serif\": ['SimSun'],\n",
    "         }\n",
    "rcParams.update(config)\n",
    "fig, ax1 = plt.subplots(figsize=(6, 5), dpi=60)\n",
    "# 绘图\n",
    "# 自变量\n",
    "x = (np.arange(15)+1)*2+1\n",
    "# y = record[2]\n",
    "colors = ['#009675ca', '#8e058bca', '#ec2d07ca', '#1d6a0fca', '#173ebcca']\n",
    "markers = ['s', 'D', 'X', '*', 'P']\n",
    "msize = [8.5, 7.8, 10.8, 15, 10.8]\n",
    "plt.plot(x, record1[3,:], label=r'actual-fit3', linewidth=1.6, linestyle='-.', color=colors[0], marker=markers[0], markersize = msize[0], markerfacecolor=colors[0], markeredgecolor='#FD4040', markeredgewidth=0)\n",
    "plt.plot(x, record2[3,:], label=r'fit-predict3', linewidth=1.6, linestyle='-.', color=colors[1], marker=markers[1], markersize = msize[1], markerfacecolor=colors[1], markeredgecolor='#249166', markeredgewidth=0)\n",
    "plt.plot(x, record[2,:], label=r'actual-predict3', linewidth=1.6, linestyle='-', color=colors[2], marker=markers[2], markersize = msize[2], markerfacecolor=colors[2], markeredgecolor='#FD4040', markeredgewidth=0)\n",
    "# plt.plot(x, record[3,:], label=r'order=6', linewidth=1.6, linestyle='--', color=colors[3], marker=markers[3], markersize = msize[3], markerfacecolor=colors[3], markeredgecolor='#FD4040', markeredgewidth=0)\n",
    "# plt.plot(x, record[4,:], label=r'order=8', linewidth=1.6, linestyle='--', color=colors[4], marker=markers[4], markersize = msize[4], markerfacecolor=colors[4], markeredgecolor='#FD4040', markeredgewidth=0)\n",
    "\n",
    "# 设置坐标系\n",
    "plt.xlim(0, 33)\n",
    "plt.ylim(-20, 520)\n",
    "# 坐标轴名\n",
    "ax1.set_xlabel(r'$w$', labelpad=1)#, fontsize=10\n",
    "ax1.set_ylabel('RMSE', labelpad=4)\n",
    "#设置主刻度标签的位置sss\n",
    "ax1.xaxis.set_major_locator(plt.MultipleLocator(5)) #将轴主刻度标签设置为 的倍数\n",
    "# ax1.yaxis.set_major_locator(plt.MultipleLocator(.2))\n",
    "\n",
    "legend = plt.legend(loc='upper left',frameon=False, ncol=1,fancybox=False,\n",
    "                    facecolor='white', fontsize=19)#loc='upper left', ,edgecolor='black', fontsize=7, bbox_to_anchor=(.6, 1)\n",
    "# set the linewidth of each legend object\n",
    "for legobj in legend.legendHandles:\n",
    "\tlegobj.set_linewidth(1.9)\n",
    "\n",
    "plt.tight_layout()\n",
    "plt.savefig('./output/predict_rmse_w_k_plot33.jpg', dpi=600)\n",
    "# plt.savefig('./output/'+time.strftime('%Y_%m_%d_%H_%M_%S', time.localtime())+'.tiff', dpi=300)\n",
    "plt.show()\n",
    "plt.close(fig)"
   ],
   "metadata": {
    "collapsed": false,
    "pycharm": {
     "name": "#%%\n"
    }
   }
  }
 ],
 "metadata": {
  "kernelspec": {
   "name": "py37_1_tf",
   "language": "python",
   "display_name": "py37_1_tf"
  },
  "language_info": {
   "codemirror_mode": {
    "name": "ipython",
    "version": 2
   },
   "file_extension": ".py",
   "mimetype": "text/x-python",
   "name": "python",
   "nbconvert_exporter": "python",
   "pygments_lexer": "ipython2",
   "version": "2.7.6"
  }
 },
 "nbformat": 4,
 "nbformat_minor": 0
}