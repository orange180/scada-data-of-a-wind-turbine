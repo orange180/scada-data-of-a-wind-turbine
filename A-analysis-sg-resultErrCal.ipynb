{
 "cells": [
  {
   "cell_type": "code",
   "execution_count": 54,
   "metadata": {
    "collapsed": true
   },
   "outputs": [
    {
     "data": {
      "text/plain": "                       num  wind speed(m/s)  wind direction  \\\n2018-01-01 00:00:00      1         5.311336      259.994904   \n2018-01-01 00:10:00      2         5.672167      268.641113   \n2018-01-01 00:20:00      3         5.216037      272.564789   \n2018-01-01 00:30:00      4         5.659674      271.258087   \n2018-01-01 00:40:00      5         5.577941      265.674286   \n...                    ...              ...             ...   \n2018-12-31 23:10:00  52556        11.404030       80.502724   \n2018-12-31 23:20:00  52557         7.332648       84.062599   \n2018-12-31 23:30:00  52558         8.435358       84.742500   \n2018-12-31 23:40:00  52559         9.421366       84.297913   \n2018-12-31 23:50:00  52560         9.979332       82.274620   \n\n                     theoretical power(kW)  active power(kW)  \n2018-01-01 00:00:00             416.328908        380.047791  \n2018-01-01 00:10:00             519.917511        453.769196  \n2018-01-01 00:20:00             390.900016        306.376587  \n2018-01-01 00:30:00             516.127569        419.645905  \n2018-01-01 00:40:00             491.702972        380.650696  \n...                                    ...               ...  \n2018-12-31 23:10:00            3397.190793       2963.980957  \n2018-12-31 23:20:00            1173.055771       1684.353027  \n2018-12-31 23:30:00            1788.284755       2201.106934  \n2018-12-31 23:40:00            2418.382503       2515.694092  \n2018-12-31 23:50:00            2779.184096       2820.466064  \n\n[52560 rows x 5 columns]",
      "text/html": "<div>\n<style scoped>\n    .dataframe tbody tr th:only-of-type {\n        vertical-align: middle;\n    }\n\n    .dataframe tbody tr th {\n        vertical-align: top;\n    }\n\n    .dataframe thead th {\n        text-align: right;\n    }\n</style>\n<table border=\"1\" class=\"dataframe\">\n  <thead>\n    <tr style=\"text-align: right;\">\n      <th></th>\n      <th>num</th>\n      <th>wind speed(m/s)</th>\n      <th>wind direction</th>\n      <th>theoretical power(kW)</th>\n      <th>active power(kW)</th>\n    </tr>\n  </thead>\n  <tbody>\n    <tr>\n      <th>2018-01-01 00:00:00</th>\n      <td>1</td>\n      <td>5.311336</td>\n      <td>259.994904</td>\n      <td>416.328908</td>\n      <td>380.047791</td>\n    </tr>\n    <tr>\n      <th>2018-01-01 00:10:00</th>\n      <td>2</td>\n      <td>5.672167</td>\n      <td>268.641113</td>\n      <td>519.917511</td>\n      <td>453.769196</td>\n    </tr>\n    <tr>\n      <th>2018-01-01 00:20:00</th>\n      <td>3</td>\n      <td>5.216037</td>\n      <td>272.564789</td>\n      <td>390.900016</td>\n      <td>306.376587</td>\n    </tr>\n    <tr>\n      <th>2018-01-01 00:30:00</th>\n      <td>4</td>\n      <td>5.659674</td>\n      <td>271.258087</td>\n      <td>516.127569</td>\n      <td>419.645905</td>\n    </tr>\n    <tr>\n      <th>2018-01-01 00:40:00</th>\n      <td>5</td>\n      <td>5.577941</td>\n      <td>265.674286</td>\n      <td>491.702972</td>\n      <td>380.650696</td>\n    </tr>\n    <tr>\n      <th>...</th>\n      <td>...</td>\n      <td>...</td>\n      <td>...</td>\n      <td>...</td>\n      <td>...</td>\n    </tr>\n    <tr>\n      <th>2018-12-31 23:10:00</th>\n      <td>52556</td>\n      <td>11.404030</td>\n      <td>80.502724</td>\n      <td>3397.190793</td>\n      <td>2963.980957</td>\n    </tr>\n    <tr>\n      <th>2018-12-31 23:20:00</th>\n      <td>52557</td>\n      <td>7.332648</td>\n      <td>84.062599</td>\n      <td>1173.055771</td>\n      <td>1684.353027</td>\n    </tr>\n    <tr>\n      <th>2018-12-31 23:30:00</th>\n      <td>52558</td>\n      <td>8.435358</td>\n      <td>84.742500</td>\n      <td>1788.284755</td>\n      <td>2201.106934</td>\n    </tr>\n    <tr>\n      <th>2018-12-31 23:40:00</th>\n      <td>52559</td>\n      <td>9.421366</td>\n      <td>84.297913</td>\n      <td>2418.382503</td>\n      <td>2515.694092</td>\n    </tr>\n    <tr>\n      <th>2018-12-31 23:50:00</th>\n      <td>52560</td>\n      <td>9.979332</td>\n      <td>82.274620</td>\n      <td>2779.184096</td>\n      <td>2820.466064</td>\n    </tr>\n  </tbody>\n</table>\n<p>52560 rows × 5 columns</p>\n</div>"
     },
     "execution_count": 54,
     "metadata": {},
     "output_type": "execute_result"
    }
   ],
   "source": [
    "import pandas as pd\n",
    "import numpy as np\n",
    "from sklearn import metrics\n",
    "from sklearn.metrics import r2_score, mean_absolute_error\n",
    "from pandas import DataFrame\n",
    "from pandas import concat\n",
    "import copy\n",
    "\n",
    "# 时间序列转换为监督学习\n",
    "def series_to_supervised(data, n_in=1, n_out=1, dropnan=True):\n",
    "    n_vars = 1 if type(data) is list else data.shape[1]\n",
    "    df = DataFrame(data)\n",
    "    cols, names = list(), list()\n",
    "    # input sequence (t-n, ... t-1)\n",
    "    for i in range(n_in, 0, -1):\n",
    "        cols.append(df.shift(i))\n",
    "        names += [('var%d(t-%d)' % (j+1, i)) for j in range(n_vars)]\n",
    "    # forecast sequence (t, t+1, ... t+n)\n",
    "    for i in range(0, n_out):\n",
    "        cols.append(df.shift(-i))\n",
    "        if i == 0:\n",
    "            names += [('var%d(t)' % (j+1)) for j in range(n_vars)]\n",
    "        else:\n",
    "            names += [('var%d(t+%d)' % (j+1, i)) for j in range(n_vars)]\n",
    "    # put it all together\n",
    "    agg = concat(cols, axis=1)\n",
    "    agg.columns = names\n",
    "    # drop rows with NaN values\n",
    "    if dropnan:\n",
    "        agg.dropna(inplace=True)\n",
    "    return agg\n",
    "\n",
    "# RMSE 均方根误差\n",
    "def rmse(y, yhat):\n",
    "    return np.sqrt(metrics.mean_squared_error(y, yhat))\n",
    "\n",
    "# SMAPE\n",
    "def smape(y, yhat):\n",
    "    return 2.0 * np.mean(np.abs(yhat - y) / (np.abs(yhat) + np.abs(y))) * 100\n",
    "\n",
    "\n",
    "serScada=pd.read_csv('./data/serScada.csv', index_col=0)\n",
    "# 字符转标准时间索引\n",
    "serScada.index = pd.to_datetime(serScada.index)\n",
    "serScada\n"
   ]
  },
  {
   "cell_type": "code",
   "execution_count": 56,
   "outputs": [
    {
     "name": "stdout",
     "output_type": "stream",
     "text": [
      "10510\n"
     ]
    },
    {
     "data": {
      "text/plain": "array([   0.        ,    0.        ,    0.        , ..., 1788.28475526,\n       2418.38250336, 2779.18409628])"
     },
     "execution_count": 56,
     "metadata": {},
     "output_type": "execute_result"
    }
   ],
   "source": [
    "date_pro = serScada.iloc[:,[1,2,3]].values\n",
    "\n",
    "# 拟合计算放缩比例等参数，并存储在 scaler\n",
    "data_norm = date_pro  # 字典对象也可以\n",
    "\n",
    "# to supervised learning\n",
    "n_timesteps = 10  # 之前的时刻数量\n",
    "n_features = data_norm.shape[1]  # 数据集中输入特征数量\n",
    "data_supervised = series_to_supervised(data_norm, n_timesteps, 1)  # 包含 t 时刻之前的 timestep 个时间点，以及 t 时刻数据，以 t 时刻为预测对象\n",
    "\n",
    "# drop columns we don't want to predict\n",
    "relain = np.array([3])  # array([3]) 保留第几个变量(从1计数)，即预测对象\n",
    "data_supervised_droped = copy.deepcopy(data_supervised)  # 深拷贝则不会改变原始字典对象内容\n",
    "remov = np.array([x for x in range(data_norm.shape[1])]) + n_timesteps*n_features  # array([30, 31, 32]) t 时刻所有参数列序号\n",
    "remov = np.delete(remov,relain-1)  # array([30, 31]) 要删除的对象\n",
    "data_supervised_droped.drop(data_supervised_droped.columns[remov], axis=1, inplace=True)  # 去掉输出当中不需要预测的参数列 [-1,-2,-3,-4,-5,-6]\n",
    "\n",
    "# split into train and test sets\n",
    "n_train_num = int(len(data_supervised_droped)*0.8)  # 规定训练集数据数量，要小于数据量总数，在后面设置reshape设置样本个数、时间步长要注意数量对应\n",
    "train = data_supervised_droped.values[:n_train_num, :]  # 按行切片，从0到n-1行，也就是从头开始总共 n 行数据\n",
    "test = data_supervised_droped.values[n_train_num:, :]  # 按行切片\n",
    "# y = data_supervised_droped.values[:,n_timesteps*n_features][n_train_num:]  # 测试集的 y，用于后续结果比较\n",
    "\n",
    "# split into input and outputs\n",
    "X_train, y_train = train[:, :-1], train[:, -1]  # 按列切片，从起始位置到-2列：-1列\n",
    "X_test, y_test = test[:, :-1], test[:, -1]  # x 和 y 变量类型都是<class 'numpy.ndarray'>\n",
    "print(len(y_test))\n",
    "y_test"
   ],
   "metadata": {
    "collapsed": false,
    "pycharm": {
     "name": "#%%\n"
    }
   }
  },
  {
   "cell_type": "code",
   "execution_count": 64,
   "outputs": [
    {
     "name": "stdout",
     "output_type": "stream",
     "text": [
      "rmse = 281.25\n",
      "mae = 169.78\n",
      "smape = 39.60\n",
      "r2_score = 0.96\n"
     ]
    }
   ],
   "source": [
    "result = pd.read_csv('./predict-wind-turbine/compare_filter/SG_3_2.csv', index_col=False)\n",
    "\n",
    "print('rmse = %.2f' % rmse(y_test, result.values[:,1]))\n",
    "print('mae = %.2f' % mean_absolute_error(y_test, result.values[:,1]))\n",
    "print('smape = %.2f' % smape(y_test, result.values[:,1]))\n",
    "print('r2_score = %.2f' % r2_score(y_test, result.values[:,1]))"
   ],
   "metadata": {
    "collapsed": false,
    "pycharm": {
     "name": "#%%\n"
    }
   }
  },
  {
   "cell_type": "code",
   "execution_count": 66,
   "outputs": [
    {
     "name": "stdout",
     "output_type": "stream",
     "text": [
      "rmse = 115.52\n",
      "mae = 70.76\n",
      "smape = 32.27\n",
      "r2_score = 0.99\n"
     ]
    }
   ],
   "source": [
    "result = pd.read_csv('./predict-wind-turbine/compare_filter/SG_5_2.csv', index_col=False)\n",
    "\n",
    "print('rmse = %.2f' % rmse(y_test, result.values[:,1]))\n",
    "print('mae = %.2f' % mean_absolute_error(y_test, result.values[:,1]))\n",
    "print('smape = %.2f' % smape(y_test, result.values[:,1]))\n",
    "print('r2_score = %.2f' % r2_score(y_test, result.values[:,1]))"
   ],
   "metadata": {
    "collapsed": false,
    "pycharm": {
     "name": "#%%\n"
    }
   }
  },
  {
   "cell_type": "code",
   "execution_count": 67,
   "outputs": [
    {
     "name": "stdout",
     "output_type": "stream",
     "text": [
      "rmse = 153.50\n",
      "mae = 104.54\n",
      "smape = 36.81\n",
      "r2_score = 0.99\n"
     ]
    }
   ],
   "source": [
    "result = pd.read_csv('./predict-wind-turbine/compare_filter/SG_7_2.csv', index_col=False)\n",
    "\n",
    "print('rmse = %.2f' % rmse(y_test, result.values[:,1]))\n",
    "print('mae = %.2f' % mean_absolute_error(y_test, result.values[:,1]))\n",
    "print('smape = %.2f' % smape(y_test, result.values[:,1]))\n",
    "print('r2_score = %.2f' % r2_score(y_test, result.values[:,1]))"
   ],
   "metadata": {
    "collapsed": false,
    "pycharm": {
     "name": "#%%\n"
    }
   }
  },
  {
   "cell_type": "code",
   "execution_count": 68,
   "outputs": [
    {
     "name": "stdout",
     "output_type": "stream",
     "text": [
      "rmse = 170.99\n",
      "mae = 103.11\n",
      "smape = 34.70\n",
      "r2_score = 0.98\n"
     ]
    }
   ],
   "source": [
    "result = pd.read_csv('./predict-wind-turbine/compare_filter/SG_9_2.csv', index_col=False)\n",
    "\n",
    "print('rmse = %.2f' % rmse(y_test, result.values[:,1]))\n",
    "print('mae = %.2f' % mean_absolute_error(y_test, result.values[:,1]))\n",
    "print('smape = %.2f' % smape(y_test, result.values[:,1]))\n",
    "print('r2_score = %.2f' % r2_score(y_test, result.values[:,1]))"
   ],
   "metadata": {
    "collapsed": false,
    "pycharm": {
     "name": "#%%\n"
    }
   }
  },
  {
   "cell_type": "code",
   "execution_count": 69,
   "outputs": [
    {
     "name": "stdout",
     "output_type": "stream",
     "text": [
      "rmse = 187.61\n",
      "mae = 116.96\n",
      "smape = 36.09\n",
      "r2_score = 0.98\n"
     ]
    }
   ],
   "source": [
    "result = pd.read_csv('./predict-wind-turbine/compare_filter/SG_11_2.csv', index_col=False)\n",
    "\n",
    "print('rmse = %.2f' % rmse(y_test, result.values[:,1]))\n",
    "print('mae = %.2f' % mean_absolute_error(y_test, result.values[:,1]))\n",
    "print('smape = %.2f' % smape(y_test, result.values[:,1]))\n",
    "print('r2_score = %.2f' % r2_score(y_test, result.values[:,1]))"
   ],
   "metadata": {
    "collapsed": false,
    "pycharm": {
     "name": "#%%\n"
    }
   }
  },
  {
   "cell_type": "code",
   "execution_count": 70,
   "outputs": [
    {
     "name": "stdout",
     "output_type": "stream",
     "text": [
      "rmse = 202.78\n",
      "mae = 122.27\n",
      "smape = 38.39\n",
      "r2_score = 0.98\n"
     ]
    }
   ],
   "source": [
    "result = pd.read_csv('./predict-wind-turbine/compare_filter/SG_13_2.csv', index_col=False)\n",
    "\n",
    "print('rmse = %.2f' % rmse(y_test, result.values[:,1]))\n",
    "print('mae = %.2f' % mean_absolute_error(y_test, result.values[:,1]))\n",
    "print('smape = %.2f' % smape(y_test, result.values[:,1]))\n",
    "print('r2_score = %.2f' % r2_score(y_test, result.values[:,1]))"
   ],
   "metadata": {
    "collapsed": false,
    "pycharm": {
     "name": "#%%\n"
    }
   }
  },
  {
   "cell_type": "code",
   "execution_count": 71,
   "outputs": [
    {
     "name": "stdout",
     "output_type": "stream",
     "text": [
      "rmse = 215.09\n",
      "mae = 130.58\n",
      "smape = 38.24\n",
      "r2_score = 0.97\n"
     ]
    }
   ],
   "source": [
    "result = pd.read_csv('./predict-wind-turbine/compare_filter/SG_15_2.csv', index_col=False)\n",
    "\n",
    "print('rmse = %.2f' % rmse(y_test, result.values[:,1]))\n",
    "print('mae = %.2f' % mean_absolute_error(y_test, result.values[:,1]))\n",
    "print('smape = %.2f' % smape(y_test, result.values[:,1]))\n",
    "print('r2_score = %.2f' % r2_score(y_test, result.values[:,1]))"
   ],
   "metadata": {
    "collapsed": false,
    "pycharm": {
     "name": "#%%\n"
    }
   }
  },
  {
   "cell_type": "code",
   "execution_count": 72,
   "outputs": [
    {
     "name": "stdout",
     "output_type": "stream",
     "text": [
      "rmse = 226.97\n",
      "mae = 139.54\n",
      "smape = 37.13\n",
      "r2_score = 0.97\n"
     ]
    }
   ],
   "source": [
    "result = pd.read_csv('./predict-wind-turbine/compare_filter/SG_17_2.csv', index_col=False)\n",
    "\n",
    "print('rmse = %.2f' % rmse(y_test, result.values[:,1]))\n",
    "print('mae = %.2f' % mean_absolute_error(y_test, result.values[:,1]))\n",
    "print('smape = %.2f' % smape(y_test, result.values[:,1]))\n",
    "print('r2_score = %.2f' % r2_score(y_test, result.values[:,1]))"
   ],
   "metadata": {
    "collapsed": false,
    "pycharm": {
     "name": "#%%\n"
    }
   }
  },
  {
   "cell_type": "code",
   "execution_count": 73,
   "outputs": [
    {
     "name": "stdout",
     "output_type": "stream",
     "text": [
      "rmse = 236.80\n",
      "mae = 144.91\n",
      "smape = 38.96\n",
      "r2_score = 0.97\n"
     ]
    }
   ],
   "source": [
    "result = pd.read_csv('./predict-wind-turbine/compare_filter/SG_19_2.csv', index_col=False)\n",
    "\n",
    "print('rmse = %.2f' % rmse(y_test, result.values[:,1]))\n",
    "print('mae = %.2f' % mean_absolute_error(y_test, result.values[:,1]))\n",
    "print('smape = %.2f' % smape(y_test, result.values[:,1]))\n",
    "print('r2_score = %.2f' % r2_score(y_test, result.values[:,1]))"
   ],
   "metadata": {
    "collapsed": false,
    "pycharm": {
     "name": "#%%\n"
    }
   }
  },
  {
   "cell_type": "code",
   "execution_count": 74,
   "outputs": [
    {
     "name": "stdout",
     "output_type": "stream",
     "text": [
      "rmse = 248.04\n",
      "mae = 151.02\n",
      "smape = 40.06\n",
      "r2_score = 0.97\n"
     ]
    }
   ],
   "source": [
    "result = pd.read_csv('./predict-wind-turbine/compare_filter/SG_21_2.csv', index_col=False)\n",
    "\n",
    "print('rmse = %.2f' % rmse(y_test, result.values[:,1]))\n",
    "print('mae = %.2f' % mean_absolute_error(y_test, result.values[:,1]))\n",
    "print('smape = %.2f' % smape(y_test, result.values[:,1]))\n",
    "print('r2_score = %.2f' % r2_score(y_test, result.values[:,1]))"
   ],
   "metadata": {
    "collapsed": false,
    "pycharm": {
     "name": "#%%\n"
    }
   }
  },
  {
   "cell_type": "code",
   "execution_count": 75,
   "outputs": [
    {
     "name": "stdout",
     "output_type": "stream",
     "text": [
      "rmse = 258.54\n",
      "mae = 160.96\n",
      "smape = 39.03\n",
      "r2_score = 0.96\n"
     ]
    }
   ],
   "source": [
    "result = pd.read_csv('./predict-wind-turbine/compare_filter/SG_23_2.csv', index_col=False)\n",
    "\n",
    "print('rmse = %.2f' % rmse(y_test, result.values[:,1]))\n",
    "print('mae = %.2f' % mean_absolute_error(y_test, result.values[:,1]))\n",
    "print('smape = %.2f' % smape(y_test, result.values[:,1]))\n",
    "print('r2_score = %.2f' % r2_score(y_test, result.values[:,1]))"
   ],
   "metadata": {
    "collapsed": false,
    "pycharm": {
     "name": "#%%\n"
    }
   }
  },
  {
   "cell_type": "code",
   "execution_count": 76,
   "outputs": [
    {
     "name": "stdout",
     "output_type": "stream",
     "text": [
      "rmse = 266.47\n",
      "mae = 161.88\n",
      "smape = 40.73\n",
      "r2_score = 0.96\n"
     ]
    }
   ],
   "source": [
    "result = pd.read_csv('./predict-wind-turbine/compare_filter/SG_25_2.csv', index_col=False)\n",
    "\n",
    "print('rmse = %.2f' % rmse(y_test, result.values[:,1]))\n",
    "print('mae = %.2f' % mean_absolute_error(y_test, result.values[:,1]))\n",
    "print('smape = %.2f' % smape(y_test, result.values[:,1]))\n",
    "print('r2_score = %.2f' % r2_score(y_test, result.values[:,1]))"
   ],
   "metadata": {
    "collapsed": false,
    "pycharm": {
     "name": "#%%\n"
    }
   }
  },
  {
   "cell_type": "code",
   "execution_count": 77,
   "outputs": [
    {
     "name": "stdout",
     "output_type": "stream",
     "text": [
      "rmse = 273.91\n",
      "mae = 169.60\n",
      "smape = 40.80\n",
      "r2_score = 0.96\n"
     ]
    }
   ],
   "source": [
    "result = pd.read_csv('./predict-wind-turbine/compare_filter/SG_27_2.csv', index_col=False)\n",
    "\n",
    "print('rmse = %.2f' % rmse(y_test, result.values[:,1]))\n",
    "print('mae = %.2f' % mean_absolute_error(y_test, result.values[:,1]))\n",
    "print('smape = %.2f' % smape(y_test, result.values[:,1]))\n",
    "print('r2_score = %.2f' % r2_score(y_test, result.values[:,1]))"
   ],
   "metadata": {
    "collapsed": false,
    "pycharm": {
     "name": "#%%\n"
    }
   }
  },
  {
   "cell_type": "code",
   "execution_count": 79,
   "outputs": [
    {
     "name": "stdout",
     "output_type": "stream",
     "text": [
      "rmse = 282.26\n",
      "mae = 182.46\n",
      "smape = 40.31\n",
      "r2_score = 0.95\n"
     ]
    }
   ],
   "source": [
    "result = pd.read_csv('./predict-wind-turbine/compare_filter/SG_29_2.csv', index_col=False)\n",
    "\n",
    "print('rmse = %.2f' % rmse(y_test, result.values[:,1]))\n",
    "print('mae = %.2f' % mean_absolute_error(y_test, result.values[:,1]))\n",
    "print('smape = %.2f' % smape(y_test, result.values[:,1]))\n",
    "print('r2_score = %.2f' % r2_score(y_test, result.values[:,1]))"
   ],
   "metadata": {
    "collapsed": false,
    "pycharm": {
     "name": "#%%\n"
    }
   }
  },
  {
   "cell_type": "code",
   "execution_count": 78,
   "outputs": [
    {
     "name": "stdout",
     "output_type": "stream",
     "text": [
      "rmse = 285.25\n",
      "mae = 175.56\n",
      "smape = 40.97\n",
      "r2_score = 0.95\n"
     ]
    }
   ],
   "source": [
    "result = pd.read_csv('./predict-wind-turbine/compare_filter/SG_31_2.csv', index_col=False)\n",
    "\n",
    "print('rmse = %.2f' % rmse(y_test, result.values[:,1]))\n",
    "print('mae = %.2f' % mean_absolute_error(y_test, result.values[:,1]))\n",
    "print('smape = %.2f' % smape(y_test, result.values[:,1]))\n",
    "print('r2_score = %.2f' % r2_score(y_test, result.values[:,1]))\n",
    "\n",
    "\n",
    "\n"
   ],
   "metadata": {
    "collapsed": false,
    "pycharm": {
     "name": "#%%\n"
    }
   }
  },
  {
   "cell_type": "code",
   "execution_count": null,
   "outputs": [],
   "source": [
    "x = (np.array(range(15))+1)*2+1 # w\n",
    "y = np.array(range(x[-1]-1))+1 # k\n",
    "x,y = np.meshgrid(x, y)\n",
    "\n",
    "\n",
    "for i in range(x.shape[1]): # w\n",
    "    for j in range(x.shape[0]): # k\n",
    "        if y[j,0]<x[0,i]: # k<n\n",
    "            result = pd.read_csv('./predict-wind-turbine/compare_filter/SG_' + str(x[0,i]) + '_' + str(y[j,0]) + '.csv', index_col=0)"
   ],
   "metadata": {
    "collapsed": false,
    "pycharm": {
     "name": "#%%\n"
    }
   }
  },
  {
   "cell_type": "code",
   "execution_count": 80,
   "outputs": [
    {
     "data": {
      "text/plain": "24.07"
     },
     "execution_count": 80,
     "metadata": {},
     "output_type": "execute_result"
    }
   ],
   "source": [
    "56.34-32.27"
   ],
   "metadata": {
    "collapsed": false,
    "pycharm": {
     "name": "#%%\n"
    }
   }
  }
 ],
 "metadata": {
  "kernelspec": {
   "name": "env37_1",
   "language": "python",
   "display_name": "env37_1"
  },
  "language_info": {
   "codemirror_mode": {
    "name": "ipython",
    "version": 2
   },
   "file_extension": ".py",
   "mimetype": "text/x-python",
   "name": "python",
   "nbconvert_exporter": "python",
   "pygments_lexer": "ipython2",
   "version": "2.7.6"
  }
 },
 "nbformat": 4,
 "nbformat_minor": 0
}