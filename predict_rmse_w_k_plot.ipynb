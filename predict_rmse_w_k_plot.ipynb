{
 "cells": [
  {
   "cell_type": "code",
   "execution_count": 1,
   "metadata": {
    "collapsed": true
   },
   "outputs": [],
   "source": [
    "import pandas as pd\n",
    "import numpy as np\n",
    "import matplotlib.pyplot as plt\n",
    "from matplotlib import rcParams\n",
    "import time\n",
    "\n",
    "\n",
    "np.set_printoptions(precision=4, threshold=8, edgeitems=4, linewidth=75, suppress=True, nanstr='nan', infstr='inf')\n",
    "pd.set_option('display.max_columns', 1000)\n",
    "pd.set_option('display.width', 1000)\n",
    "pd.set_option('display.max_colwidth', 1000)"
   ]
  },
  {
   "cell_type": "code",
   "execution_count": 2,
   "outputs": [
    {
     "name": "stdout",
     "output_type": "stream",
     "text": [
      "[[ 95.1151  73.2108  50.8346  54.1101 ...  22.3785  28.2316  28.26\n",
      "   26.6376]\n",
      " [281.2545 116.1142  91.9492  59.5834 ...  28.8883  33.964   40.3437\n",
      "   27.8113]\n",
      " [     nan 118.0716  83.45    62.1586 ...  36.8308  48.1196  28.6887\n",
      "   27.2341]\n",
      " [     nan 277.0595 120.4255  91.5704 ...  55.9383  36.8819  31.1313\n",
      "   31.5007]\n",
      " ...\n",
      " [     nan      nan      nan      nan ...      nan      nan  95.126\n",
      "   85.3402]\n",
      " [     nan      nan      nan      nan ...      nan      nan  79.9314\n",
      "   90.671 ]\n",
      " [     nan      nan      nan      nan ...      nan      nan      nan\n",
      "   96.3044]\n",
      " [     nan      nan      nan      nan ...      nan      nan      nan\n",
      "   93.1894]]\n"
     ]
    }
   ],
   "source": [
    "record = pd.read_csv('z_rmse.csv', index_col=False, header=None)\n",
    "record = record.values\n",
    "print(record)"
   ],
   "metadata": {
    "collapsed": false,
    "pycharm": {
     "name": "#%%\n"
    }
   }
  },
  {
   "cell_type": "code",
   "execution_count": 3,
   "outputs": [
    {
     "name": "stdout",
     "output_type": "stream",
     "text": [
      "(30, 15)\n"
     ]
    },
    {
     "data": {
      "text/plain": "array([ 3,  5,  7,  9, ..., 25, 27, 29, 31])"
     },
     "execution_count": 3,
     "metadata": {},
     "output_type": "execute_result"
    }
   ],
   "source": [
    "print(record.shape)\n",
    "\n",
    "\n",
    "(np.arange(15)+1)*2+1\n",
    "\n"
   ],
   "metadata": {
    "collapsed": false,
    "pycharm": {
     "name": "#%%\n"
    }
   }
  },
  {
   "cell_type": "code",
   "execution_count": 4,
   "outputs": [
    {
     "data": {
      "text/plain": "<Figure size 360x300 with 1 Axes>",
      "image/png": "[encoded data removed]"
     },
     "metadata": {
      "needs_background": "light"
     },
     "output_type": "display_data"
    }
   ],
   "source": [
    "plt.rcParams['axes.unicode_minus'] = False  # 解决负号显示问题\n",
    "config = {\n",
    "            \"font.family\": 'serif',\n",
    "            \"font.size\": 21,\n",
    "            \"mathtext.fontset\": 'stix',\n",
    "            \"font.serif\": ['SimSun'],\n",
    "         }\n",
    "rcParams.update(config)\n",
    "fig, ax1 = plt.subplots(figsize=(6, 5), dpi=60)\n",
    "# 绘图\n",
    "# 自变量\n",
    "x = (np.arange(15)+1)*2+1\n",
    "# y = record[2]\n",
    "colors = ['#009675ca', '#8e058bca', '#ec2d07ca', '#1d6a0fca', '#173ebcca']\n",
    "markers = ['s', 'D', 'X', '*', 'P']\n",
    "msize = [8.5, 7.8, 10.8, 15, 10.8]\n",
    "plt.plot(x, record[0,:], label=r'order=1', linewidth=1.6, linestyle='-', color=colors[0], marker=markers[0], markersize = msize[0], markerfacecolor=colors[0], markeredgecolor='#FD4040', markeredgewidth=0)\n",
    "plt.plot(x, record[2,:], label=r'order=3', linewidth=1.6, linestyle='-.', color=colors[1], marker=markers[1], markersize = msize[1], markerfacecolor=colors[1], markeredgecolor='#249166', markeredgewidth=0)\n",
    "plt.plot(x, record[4,:], label=r'order=5', linewidth=1.6, linestyle='-.', color=colors[2], marker=markers[2], markersize = msize[2], markerfacecolor=colors[2], markeredgecolor='#FD4040', markeredgewidth=0)\n",
    "plt.plot(x, record[6,:], label=r'order=7', linewidth=1.6, linestyle='--', color=colors[3], marker=markers[3], markersize = msize[3], markerfacecolor=colors[3], markeredgecolor='#FD4040', markeredgewidth=0)\n",
    "plt.plot(x, record[8,:], label=r'order=9', linewidth=1.6, linestyle='--', color=colors[4], marker=markers[4], markersize = msize[4], markerfacecolor=colors[4], markeredgecolor='#FD4040', markeredgewidth=0)\n",
    "\n",
    "# 设置坐标系\n",
    "plt.xlim(0, 33)\n",
    "plt.ylim(-20, 520)\n",
    "# 坐标轴名\n",
    "ax1.set_xlabel(r'$w$', labelpad=1)#, fontsize=10\n",
    "ax1.set_ylabel('RMSE', labelpad=4)\n",
    "#设置主刻度标签的位置\n",
    "ax1.xaxis.set_major_locator(plt.MultipleLocator(5)) #将轴主刻度标签设置为 的倍数\n",
    "# ax1.yaxis.set_major_locator(plt.MultipleLocator(.2))\n",
    "\n",
    "legend = plt.legend(loc='upper left',frameon=False, ncol=2,fancybox=False,\n",
    "                    facecolor='white', fontsize=19)#loc='upper left', ,edgecolor='black', fontsize=7, bbox_to_anchor=(.6, 1)\n",
    "# set the linewidth of each legend object\n",
    "for legobj in legend.legendHandles:\n",
    "\tlegobj.set_linewidth(1.9)\n",
    "\n",
    "plt.tight_layout()\n",
    "plt.savefig('./output/z_rmse.jpg', dpi=600)\n",
    "# plt.savefig('./output/'+time.strftime('%Y_%m_%d_%H_%M_%S', time.localtime())+'.tiff', dpi=300)\n",
    "plt.show()\n",
    "plt.close(fig)"
   ],
   "metadata": {
    "collapsed": false,
    "pycharm": {
     "name": "#%%\n"
    }
   }
  }
 ],
 "metadata": {
  "kernelspec": {
   "name": "py37_1_tf",
   "language": "python",
   "display_name": "py37_1_tf"
  },
  "language_info": {
   "codemirror_mode": {
    "name": "ipython",
    "version": 2
   },
   "file_extension": ".py",
   "mimetype": "text/x-python",
   "name": "python",
   "nbconvert_exporter": "python",
   "pygments_lexer": "ipython2",
   "version": "2.7.6"
  }
 },
 "nbformat": 4,
 "nbformat_minor": 0
}