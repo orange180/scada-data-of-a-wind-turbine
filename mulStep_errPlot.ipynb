{
 "cells": [
  {
   "cell_type": "code",
   "execution_count": 2,
   "metadata": {
    "collapsed": true
   },
   "outputs": [],
   "source": [
    "\n",
    "import pandas as pd\n",
    "import numpy as np\n",
    "import matplotlib.pyplot as plt\n",
    "from matplotlib import rcParams\n",
    "import time\n",
    "\n",
    "\n",
    "np.set_printoptions(precision=4, threshold=8, edgeitems=4, linewidth=75, suppress=True, nanstr='nan', infstr='inf')\n",
    "pd.set_option('display.max_columns', 1000)\n",
    "pd.set_option('display.width', 1000)\n",
    "pd.set_option('display.max_colwidth', 1000)"
   ]
  },
  {
   "cell_type": "code",
   "execution_count": 3,
   "outputs": [
    {
     "name": "stdout",
     "output_type": "stream",
     "text": [
      "[[45.8327 55.364  60.5202 64.4239 67.0527 70.3042]\n",
      " [ 0.0045  0.009   0.0123  0.0155  0.018   0.0212]\n",
      " [ 0.0672  0.0946  0.1108  0.1245  0.1341  0.1457]\n",
      " [ 0.0385  0.0557  0.0669  0.0765  0.0832  0.0914]\n",
      " [ 0.9673  0.9352  0.9111  0.8878  0.8699  0.8464]]\n"
     ]
    }
   ],
   "source": [
    "record_xgb = pd.read_csv('./output/record_xgboost.csv', index_col=False, header=None)\n",
    "record_xgb = record_xgb.values\n",
    "print(record_xgb)"
   ],
   "metadata": {
    "collapsed": false,
    "pycharm": {
     "name": "#%%\n"
    }
   }
  },
  {
   "cell_type": "code",
   "execution_count": 4,
   "outputs": [
    {
     "name": "stdout",
     "output_type": "stream",
     "text": [
      "[[51.2176 59.627  63.5508 66.3434 68.4763 70.3949]\n",
      " [ 0.0038  0.0073  0.0103  0.0128  0.0153  0.0176]\n",
      " [ 0.0614  0.0856  0.1014  0.1133  0.1236  0.1326]\n",
      " [ 0.0358  0.0523  0.0632  0.0722  0.08    0.0868]\n",
      " [ 0.9727  0.9469  0.9255  0.9071  0.8894  0.8728]]\n"
     ]
    }
   ],
   "source": [
    "record_lin = pd.read_csv('./output/record_linearRegression.csv', index_col=False, header=None)\n",
    "record_lin = record_lin.values\n",
    "print(record_lin)"
   ],
   "metadata": {
    "collapsed": false,
    "pycharm": {
     "name": "#%%\n"
    }
   }
  },
  {
   "cell_type": "code",
   "execution_count": 5,
   "outputs": [
    {
     "name": "stdout",
     "output_type": "stream",
     "text": [
      "[[31.9567 47.3348 52.4358 56.2737 59.6981 62.4438]\n",
      " [ 0.0062  0.0108  0.0149  0.0186  0.0224  0.0258]\n",
      " [ 0.0789  0.1038  0.122   0.1365  0.1498  0.1607]\n",
      " [ 0.0469  0.0629  0.0746  0.0839  0.0928  0.1002]\n",
      " [ 0.955   0.922   0.8922  0.8652  0.8375  0.8131]]\n"
     ]
    }
   ],
   "source": [
    "record_knn = pd.read_csv('./output/record_knn.csv', index_col=False, header=None)\n",
    "record_knn = record_knn.values\n",
    "print(record_knn)"
   ],
   "metadata": {
    "collapsed": false,
    "pycharm": {
     "name": "#%%\n"
    }
   }
  },
  {
   "cell_type": "code",
   "execution_count": 6,
   "outputs": [
    {
     "name": "stdout",
     "output_type": "stream",
     "text": [
      "[[63.8638 67.4778 69.92   71.5277 72.9459 74.2717]\n",
      " [ 0.0059  0.0096  0.0129  0.0155  0.018   0.0203]\n",
      " [ 0.0767  0.0981  0.1134  0.1245  0.134   0.1426]\n",
      " [ 0.0606  0.0754  0.0861  0.0934  0.0997  0.1057]\n",
      " [ 0.9574  0.9303  0.9069  0.8878  0.87    0.8528]]\n"
     ]
    }
   ],
   "source": [
    "record_svr = pd.read_csv('./output/record_svr.csv', index_col=False, header=None)\n",
    "record_svr = record_svr.values\n",
    "print(record_svr)"
   ],
   "metadata": {
    "collapsed": false,
    "pycharm": {
     "name": "#%%\n"
    }
   }
  },
  {
   "cell_type": "code",
   "execution_count": 7,
   "outputs": [
    {
     "name": "stdout",
     "output_type": "stream",
     "text": [
      "[[54.6784 57.5601 66.2374 70.2712 67.7538 71.8215]\n",
      " [ 0.004   0.0082  0.0107  0.015   0.0159  0.0182]\n",
      " [ 0.0631  0.0905  0.1033  0.1225  0.126   0.135 ]\n",
      " [ 0.0378  0.0586  0.0633  0.0839  0.079   0.0886]\n",
      " [ 0.9712  0.9408  0.9228  0.8913  0.885   0.868 ]]\n"
     ]
    }
   ],
   "source": [
    "record_mlp = pd.read_csv('./output/record_mlp.csv', index_col=False, header=None)\n",
    "record_mlp = record_mlp.values\n",
    "print(record_mlp)"
   ],
   "metadata": {
    "collapsed": false,
    "pycharm": {
     "name": "#%%\n"
    }
   }
  },
  {
   "cell_type": "code",
   "execution_count": 8,
   "outputs": [
    {
     "name": "stdout",
     "output_type": "stream",
     "text": [
      "[[78.2241 83.537  83.5638 83.5931 82.2249 82.2165]\n",
      " [ 0.0239  0.036   0.0385  0.0406  0.0391  0.036 ]\n",
      " [ 0.1545  0.1897  0.1963  0.2015  0.1977  0.1898]\n",
      " [ 0.132   0.1593  0.1638  0.1713  0.1648  0.1602]\n",
      " [ 0.8272  0.7396  0.7211  0.7062  0.7171  0.7393]]\n"
     ]
    }
   ],
   "source": [
    "########################################################################################\n",
    "record_ada = pd.read_csv('./output/record_adaboost.csv', index_col=False, header=None)\n",
    "record_ada = record_ada.values\n",
    "print(record_ada)"
   ],
   "metadata": {
    "collapsed": false,
    "pycharm": {
     "name": "#%%\n"
    }
   }
  },
  {
   "cell_type": "code",
   "execution_count": 9,
   "outputs": [
    {
     "name": "stdout",
     "output_type": "stream",
     "text": [
      "[[35.5347 47.3869 53.5001 58.3151 62.2531 65.2912]\n",
      " [ 0.0044  0.0085  0.0122  0.0154  0.0178  0.0209]\n",
      " [ 0.0667  0.0924  0.1103  0.1239  0.1336  0.1445]\n",
      " [ 0.0395  0.0571  0.07    0.0798  0.0872  0.0958]\n",
      " [ 0.9678  0.9382  0.9119  0.8888  0.8709  0.8489]]\n"
     ]
    }
   ],
   "source": [
    "record_Rfo = pd.read_csv('./output/record_RandomForest.csv', index_col=False, header=None)\n",
    "record_Rfo = record_Rfo.values\n",
    "print(record_Rfo)"
   ],
   "metadata": {
    "collapsed": false,
    "pycharm": {
     "name": "#%%\n"
    }
   }
  },
  {
   "cell_type": "code",
   "execution_count": 10,
   "outputs": [
    {
     "name": "stdout",
     "output_type": "stream",
     "text": [
      "[[51.4267 59.6121 63.5337 66.3186 68.4289 70.3667]\n",
      " [ 0.0038  0.0073  0.0103  0.0128  0.0153  0.0176]\n",
      " [ 0.0614  0.0856  0.1014  0.1133  0.1236  0.1325]\n",
      " [ 0.0359  0.0523  0.0632  0.0722  0.08    0.0868]\n",
      " [ 0.9727  0.9469  0.9255  0.9071  0.8894  0.8728]]\n"
     ]
    }
   ],
   "source": [
    "record_rid = pd.read_csv('./output/record_Ridge.csv', index_col=False, header=None)\n",
    "record_rid = record_rid.values\n",
    "print(record_rid)"
   ],
   "metadata": {
    "collapsed": false,
    "pycharm": {
     "name": "#%%\n"
    }
   }
  },
  {
   "cell_type": "code",
   "execution_count": 11,
   "outputs": [
    {
     "name": "stdout",
     "output_type": "stream",
     "text": [
      "[[131.6636 140.4033 137.3841 127.6112 123.1065 115.9718]\n",
      " [  0.0052   0.0108   0.0139   0.0139   0.017    0.0225]\n",
      " [  0.0719   0.1037   0.1178   0.1179   0.1306   0.1499]\n",
      " [  0.0466   0.0713   0.0843   0.0797   0.0901   0.1142]\n",
      " [  0.9626   0.9222   0.8995   0.8994   0.8766   0.8373]]\n"
     ]
    }
   ],
   "source": [
    "record_rnn = pd.read_csv('./output/record_rnn.csv', index_col=False, header=None)\n",
    "record_rnn = record_rnn.values\n",
    "print(record_rnn)\n"
   ],
   "metadata": {
    "collapsed": false,
    "pycharm": {
     "name": "#%%\n"
    }
   }
  },
  {
   "cell_type": "code",
   "execution_count": 12,
   "outputs": [
    {
     "data": {
      "text/plain": "<Figure size 360x300 with 1 Axes>",
      "image/png": "[encoded data removed]"
     },
     "metadata": {
      "needs_background": "light"
     },
     "output_type": "display_data"
    }
   ],
   "source": [
    "plt.rcParams['axes.unicode_minus'] = False  # 解决负号显示问题\n",
    "config = {\n",
    "            \"font.family\": 'serif',\n",
    "            \"font.size\": 21,\n",
    "            \"mathtext.fontset\": 'stix',\n",
    "            \"font.serif\": ['SimSun'],\n",
    "         }\n",
    "rcParams.update(config)\n",
    "fig, ax1 = plt.subplots(figsize=(6, 5), dpi=60)\n",
    "# 绘图\n",
    "# 自变量\n",
    "x = np.array([1,2,3,4,5,6])\n",
    "# y = record[2]\n",
    "colors = ['#8e058bca', '#ec2d07ca', '#1d6a0fca', '#173ebcca', '#009675ca']\n",
    "markers = ['s', 'D', 'X', '*', 'P']\n",
    "msize = [8.5, 7.8, 10.8, 15, 10.8]\n",
    "plt.plot(x, record_xgb[2], label=r'xgb', linewidth=1.6, linestyle='--', color=colors[0], marker=markers[0], markersize = msize[0], markerfacecolor=colors[0], markeredgecolor='#FD4040', markeredgewidth=0)\n",
    "plt.plot(x, record_lin[2], label=r'lin', linewidth=1.6, linestyle='-.', color=colors[1], marker=markers[1], markersize = msize[1], markerfacecolor=colors[1], markeredgecolor='#249166', markeredgewidth=0)\n",
    "plt.plot(x, record_knn[2], label=r'knn', linewidth=1.6, linestyle='-.', color=colors[2], marker=markers[2], markersize = msize[2], markerfacecolor=colors[2], markeredgecolor='#FD4040', markeredgewidth=0)\n",
    "plt.plot(x, record_svr[2], label=r'svr', linewidth=1.6, linestyle='--', color=colors[3], marker=markers[3], markersize = msize[3], markerfacecolor=colors[3], markeredgecolor='#FD4040', markeredgewidth=0)\n",
    "plt.plot(x, record_mlp[2], label=r'mlp', linewidth=1.6, linestyle='--', color=colors[4], marker=markers[4], markersize = msize[4], markerfacecolor=colors[4], markeredgecolor='#FD4040', markeredgewidth=0)\n",
    "\n",
    "# 设置坐标系\n",
    "plt.xlim(.5, 6.5)\n",
    "plt.ylim(0, .2)\n",
    "# 坐标轴名\n",
    "ax1.set_xlabel(r'Time Steps $( \\times 10 \\; min )$', labelpad=2)#, fontsize=10\n",
    "ax1.set_ylabel('nRMSE', labelpad=2)\n",
    "#设置主刻度标签的位置\n",
    "ax1.xaxis.set_major_locator(plt.MultipleLocator(1)) #将轴主刻度标签设置为 的倍数\n",
    "# ax1.yaxis.set_major_locator(plt.MultipleLocator(.2))\n",
    "\n",
    "legend = plt.legend(loc='upper left',frameon=False, ncol=2,fancybox=False,\n",
    "                    facecolor='white', fontsize=20)#loc='upper left', ,edgecolor='black', fontsize=7, bbox_to_anchor=(.6, 1)\n",
    "# set the linewidth of each legend object\n",
    "for legobj in legend.legendHandles:\n",
    "\tlegobj.set_linewidth(1.9)\n",
    "\n",
    "plt.tight_layout()\n",
    "# plt.savefig('./output/'+time.strftime('%Y_%m_%d_%H_%M_%S', time.localtime())+'.jpg', dpi=300)\n",
    "# plt.savefig('./output/'+time.strftime('%Y_%m_%d_%H_%M_%S', time.localtime())+'.tiff', dpi=300)\n",
    "plt.show()\n",
    "plt.close(fig)"
   ],
   "metadata": {
    "collapsed": false,
    "pycharm": {
     "name": "#%%\n"
    }
   }
  },
  {
   "cell_type": "code",
   "execution_count": 13,
   "outputs": [
    {
     "data": {
      "text/plain": "<Figure size 360x300 with 1 Axes>",
      "image/png": "[encoded data removed]"
     },
     "metadata": {
      "needs_background": "light"
     },
     "output_type": "display_data"
    }
   ],
   "source": [
    "plt.rcParams['axes.unicode_minus'] = False  # 解决负号显示问题\n",
    "config = {\n",
    "            \"font.family\": 'serif',\n",
    "            \"font.size\": 21,\n",
    "            \"mathtext.fontset\": 'stix',\n",
    "            \"font.serif\": ['SimSun'],\n",
    "         }\n",
    "rcParams.update(config)\n",
    "fig, ax1 = plt.subplots(figsize=(6, 5), dpi=60)\n",
    "# 绘图\n",
    "# 自变量\n",
    "x = np.array([1,2,3,4,5,6])\n",
    "# y = record[2]\n",
    "colors = ['#8e058bca', '#ec2d07ca', '#1d6a0fca', '#173ebcca', '#009675ca']\n",
    "markers = ['s', 'D', 'X', '*', 'P']\n",
    "msize = [8.5, 7.8, 10.8, 15, 10.8]\n",
    "plt.plot(x, record_ada[2], label=r'ada', linewidth=1.6, linestyle='--', color=colors[0], marker=markers[0], markersize = msize[0], markerfacecolor=colors[0], markeredgecolor='#FD4040', markeredgewidth=0)\n",
    "plt.plot(x, record_Rfo[2], label=r'Rfo', linewidth=1.6, linestyle='-.', color=colors[1], marker=markers[1], markersize = msize[1], markerfacecolor=colors[1], markeredgecolor='#249166', markeredgewidth=0)\n",
    "plt.plot(x, record_rid[2], label=r'rid', linewidth=1.6, linestyle='-.', color=colors[2], marker=markers[2], markersize = msize[2], markerfacecolor=colors[2], markeredgecolor='#FD4040', markeredgewidth=0)\n",
    "plt.plot(x, record_rnn[2], label=r'rnn', linewidth=1.6, linestyle='--', color=colors[3], marker=markers[3], markersize = msize[3], markerfacecolor=colors[3], markeredgecolor='#FD4040', markeredgewidth=0)\n",
    "# plt.plot(x, record_mlp[2], label=r'mlp', linewidth=1.6, linestyle='--', color=colors[4], marker=markers[4], markersize = msize[4], markerfacecolor=colors[4], markeredgecolor='#FD4040', markeredgewidth=0)\n",
    "\n",
    "# 设置坐标系\n",
    "plt.xlim(.5, 6.5)\n",
    "plt.ylim(0, .2)\n",
    "# 坐标轴名\n",
    "ax1.set_xlabel(r'Time Steps $( \\times 10 \\; min )$', labelpad=0)#, fontsize=10\n",
    "ax1.set_ylabel('nRMSE', labelpad=2)\n",
    "#设置主刻度标签的位置\n",
    "ax1.xaxis.set_major_locator(plt.MultipleLocator(1)) #将轴主刻度标签设置为 的倍数\n",
    "# ax1.yaxis.set_major_locator(plt.MultipleLocator(.2))\n",
    "\n",
    "legend = plt.legend(loc='upper left',frameon=False, ncol=2,fancybox=False,\n",
    "                    facecolor='white', fontsize=20)#loc='upper left', ,edgecolor='black', fontsize=7, bbox_to_anchor=(.6, 1)\n",
    "# set the linewidth of each legend object\n",
    "for legobj in legend.legendHandles:\n",
    "\tlegobj.set_linewidth(1.9)\n",
    "\n",
    "plt.tight_layout()\n",
    "# plt.savefig('./output/'+time.strftime('%Y_%m_%d_%H_%M_%S', time.localtime())+'.jpg', dpi=300)\n",
    "# plt.savefig('./output/'+time.strftime('%Y_%m_%d_%H_%M_%S', time.localtime())+'.tiff', dpi=300)\n",
    "plt.show()\n",
    "plt.close(fig)"
   ],
   "metadata": {
    "collapsed": false,
    "pycharm": {
     "name": "#%%\n"
    }
   }
  }
 ],
 "metadata": {
  "kernelspec": {
   "name": "env37_1",
   "language": "python",
   "display_name": "env37_1"
  },
  "language_info": {
   "codemirror_mode": {
    "name": "ipython",
    "version": 2
   },
   "file_extension": ".py",
   "mimetype": "text/x-python",
   "name": "python",
   "nbconvert_exporter": "python",
   "pygments_lexer": "ipython2",
   "version": "2.7.6"
  }
 },
 "nbformat": 4,
 "nbformat_minor": 0
}